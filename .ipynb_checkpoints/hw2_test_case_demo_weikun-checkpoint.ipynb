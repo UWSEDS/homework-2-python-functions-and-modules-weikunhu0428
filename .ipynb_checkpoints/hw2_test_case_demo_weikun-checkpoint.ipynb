{
 "cells": [
  {
   "cell_type": "markdown",
   "metadata": {},
   "source": [
    "Create a python module (a file with extension ‘.py’) with the following functions:\n",
    "\n",
    "1. (1 points) Write a python reads creates a dataframe from a URL that points to a CSV file such as the pronto data or CSVs in data.gov.\n",
    "\n",
    "1. (6 points) Create the function test_create_dataframe that takes as input: (a) a pandas DataFrame and (b) a list of column names. The function returns True if the following conditions hold:\n",
    "\n",
    "  - The DataFrame contains only the columns that you specified as the second argument.\n",
    "  - The values in each column have the same python type\n",
    "  - There are at least 10 rows in the DataFrame.\n"
   ]
  },
  {
   "cell_type": "markdown",
   "metadata": {},
   "source": [
    "read_url is the function read data from URL\n",
    "\n",
    "test_create_dataframe is the function testing the coditions\n",
    "\n",
    "### Sample case"
   ]
  },
  {
   "cell_type": "code",
   "execution_count": 4,
   "metadata": {},
   "outputs": [],
   "source": [
    "import hw2"
   ]
  },
  {
   "cell_type": "code",
   "execution_count": 5,
   "metadata": {},
   "outputs": [],
   "source": [
    "url='https://data.seattle.gov/api/views/65db-xm6k/rows.csv?accessType=DOWNLOAD'"
   ]
  },
  {
   "cell_type": "code",
   "execution_count": 6,
   "metadata": {},
   "outputs": [],
   "source": [
    "df = hw2.read_url(url)"
   ]
  },
  {
   "cell_type": "code",
   "execution_count": 7,
   "metadata": {},
   "outputs": [
    {
     "data": {
      "text/html": [
       "<div>\n",
       "<style scoped>\n",
       "    .dataframe tbody tr th:only-of-type {\n",
       "        vertical-align: middle;\n",
       "    }\n",
       "\n",
       "    .dataframe tbody tr th {\n",
       "        vertical-align: top;\n",
       "    }\n",
       "\n",
       "    .dataframe thead th {\n",
       "        text-align: right;\n",
       "    }\n",
       "</style>\n",
       "<table border=\"1\" class=\"dataframe\">\n",
       "  <thead>\n",
       "    <tr style=\"text-align: right;\">\n",
       "      <th></th>\n",
       "      <th>Date</th>\n",
       "      <th>Fremont Bridge East Sidewalk</th>\n",
       "      <th>Fremont Bridge West Sidewalk</th>\n",
       "    </tr>\n",
       "  </thead>\n",
       "  <tbody>\n",
       "    <tr>\n",
       "      <td>0</td>\n",
       "      <td>01/01/2019 12:00:00 AM</td>\n",
       "      <td>0.0</td>\n",
       "      <td>9.0</td>\n",
       "    </tr>\n",
       "    <tr>\n",
       "      <td>1</td>\n",
       "      <td>01/01/2019 01:00:00 AM</td>\n",
       "      <td>2.0</td>\n",
       "      <td>22.0</td>\n",
       "    </tr>\n",
       "    <tr>\n",
       "      <td>2</td>\n",
       "      <td>01/01/2019 02:00:00 AM</td>\n",
       "      <td>1.0</td>\n",
       "      <td>11.0</td>\n",
       "    </tr>\n",
       "    <tr>\n",
       "      <td>3</td>\n",
       "      <td>01/01/2019 03:00:00 AM</td>\n",
       "      <td>1.0</td>\n",
       "      <td>2.0</td>\n",
       "    </tr>\n",
       "    <tr>\n",
       "      <td>4</td>\n",
       "      <td>01/01/2019 04:00:00 AM</td>\n",
       "      <td>2.0</td>\n",
       "      <td>1.0</td>\n",
       "    </tr>\n",
       "  </tbody>\n",
       "</table>\n",
       "</div>"
      ],
      "text/plain": [
       "                     Date  Fremont Bridge East Sidewalk  \\\n",
       "0  01/01/2019 12:00:00 AM                           0.0   \n",
       "1  01/01/2019 01:00:00 AM                           2.0   \n",
       "2  01/01/2019 02:00:00 AM                           1.0   \n",
       "3  01/01/2019 03:00:00 AM                           1.0   \n",
       "4  01/01/2019 04:00:00 AM                           2.0   \n",
       "\n",
       "   Fremont Bridge West Sidewalk  \n",
       "0                           9.0  \n",
       "1                          22.0  \n",
       "2                          11.0  \n",
       "3                           2.0  \n",
       "4                           1.0  "
      ]
     },
     "execution_count": 7,
     "metadata": {},
     "output_type": "execute_result"
    }
   ],
   "source": [
    "df.head()"
   ]
  },
  {
   "cell_type": "markdown",
   "metadata": {},
   "source": [
    "### Sample case when all conditions hold"
   ]
  },
  {
   "cell_type": "code",
   "execution_count": 8,
   "metadata": {},
   "outputs": [
    {
     "name": "stdout",
     "output_type": "stream",
     "text": [
      "['Date', 'Fremont Bridge East Sidewalk', 'Fremont Bridge West Sidewalk']\n"
     ]
    }
   ],
   "source": [
    "colName = list(df.columns)\n",
    "print(colName)"
   ]
  },
  {
   "cell_type": "code",
   "execution_count": 9,
   "metadata": {},
   "outputs": [],
   "source": [
    "type_list = []\n",
    "for i in range(len(df.columns)):\n",
    "    columns  = df.iloc[:,i]\n",
    "    type0 = type(columns[0])\n",
    "    type_list.append(all(isinstance(columns[j],type0) for j in range(len(df))))"
   ]
  },
  {
   "cell_type": "code",
   "execution_count": null,
   "metadata": {},
   "outputs": [],
   "source": [
    "hw2.test_create_dataframe(df,colName)"
   ]
  },
  {
   "cell_type": "markdown",
   "metadata": {},
   "source": [
    "### Function inside hw2 module"
   ]
  },
  {
   "cell_type": "code",
   "execution_count": null,
   "metadata": {},
   "outputs": [],
   "source": [
    "import pandas as pd\n",
    "def read_url(url):\n",
    "    return pd.read_csv(url)"
   ]
  },
  {
   "cell_type": "code",
   "execution_count": null,
   "metadata": {},
   "outputs": [],
   "source": [
    "def test_create_dataframe(df,colName):\n",
    "    # return true if all conditions satisfied\n",
    "    # The DataFrame contains only the columns that you specified as the second argument.\n",
    "    # The values in each column have the same python type\n",
    "    # There are at least 10 rows in the DataFrame.\n",
    "    if (list(df.columns.values) == colName)  & len(set(df.dtypes.values.tolist())) == 1 & (len(df) >=10):\n",
    "        return True"
   ]
  },
  {
   "cell_type": "code",
   "execution_count": null,
   "metadata": {},
   "outputs": [],
   "source": [
    "i = 0"
   ]
  },
  {
   "cell_type": "code",
   "execution_count": null,
   "metadata": {},
   "outputs": [],
   "source": [
    "columns  = df.iloc[:,i]\n",
    "type0 = type(columns[0])\n",
    "all(isinstance(columns[j],type0) for j in range(len(df)))\n"
   ]
  },
  {
   "cell_type": "code",
   "execution_count": null,
   "metadata": {},
   "outputs": [],
   "source": [
    "len(df.columns)"
   ]
  },
  {
   "cell_type": "code",
   "execution_count": null,
   "metadata": {},
   "outputs": [],
   "source": [
    "type(df.iloc[:,1][0])"
   ]
  },
  {
   "cell_type": "code",
   "execution_count": null,
   "metadata": {},
   "outputs": [],
   "source": [
    "type_list = []\n",
    "for i in range(len(df.columns)):\n",
    "    columns  = df.iloc[:,i]\n",
    "    type0 = type(columns[0])\n",
    "    type_list.append(all(isinstance(columns[j],type0) for j in range(len(df))))\n",
    "    \n",
    "        \n",
    "    "
   ]
  },
  {
   "cell_type": "code",
   "execution_count": null,
   "metadata": {},
   "outputs": [],
   "source": [
    "all(type_list)"
   ]
  },
  {
   "cell_type": "code",
   "execution_count": null,
   "metadata": {},
   "outputs": [],
   "source": [
    "all([False,True])"
   ]
  },
  {
   "cell_type": "code",
   "execution_count": null,
   "metadata": {},
   "outputs": [],
   "source": []
  }
 ],
 "metadata": {
  "kernelspec": {
   "display_name": "Python 3",
   "language": "python",
   "name": "python3"
  },
  "language_info": {
   "codemirror_mode": {
    "name": "ipython",
    "version": 3
   },
   "file_extension": ".py",
   "mimetype": "text/x-python",
   "name": "python",
   "nbconvert_exporter": "python",
   "pygments_lexer": "ipython3",
   "version": "3.7.3"
  }
 },
 "nbformat": 4,
 "nbformat_minor": 2
}
